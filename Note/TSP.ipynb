{
 "cells": [
  {
   "cell_type": "markdown",
   "metadata": {},
   "source": [
    "# 禁忌搜索解决旅行商问题\r\n",
    "这是禁忌搜索初体验，很大程度上参照了别人的教程。\r\n",
    "\r\n",
    "## 1、旅行商问题（TSP）\r\n",
    "### 1.1、概述\r\n",
    "某一旅行商从A地出发，他需要走遍A、B、C、D四地做生意并最终回到A地，求问如何探索出一条最合适的路径，使得他可以走最少的路完成任务？\r\n",
    "\r\n",
    "### 1.2、问题建模\r\n",
    "我们使用一个**带权的有向图**来表示整个地图。鉴于没有人会从一个地方绕个圈子回到这个地方，所以所有结点都不设自回路；如果从A地到B地之间有多条路的话，任何情况下都应该选择长度短的那一条，因此其他的路也没有必要考虑。因此，我们就使用一个简单的邻接矩阵来表示地图，结点为A、B、C、D四个城市，用<A,B>这样的结点的序偶来表示有向边（也就是城市之间的单行道）。\r\n",
    "\r\n",
    "为了后面方便，我们约定一个巨大的数来标记不可达的路。\r\n",
    "\r\n",
    "我们在Python里面可以使用`numpy`来处理矩阵，定义一个`class Map`来表示整个地图。为了让地图更加形象，我们编写一个函数来生成可视化脚本。可视化采用Graphviz来渲染图像。"
   ]
  },
  {
   "cell_type": "code",
   "execution_count": null,
   "metadata": {},
   "outputs": [],
   "source": []
  },
  {
   "cell_type": "code",
   "execution_count": null,
   "metadata": {},
   "outputs": [],
   "source": [
    "'''编者按：这些代码看看就好，别去真的运行它，否则我也不知道jupyter能给我发出多少警告。要运行请移步src文件夹。'''\r\n",
    "import numpy as np\r\n",
    "\r\n",
    "\"\"\"先定义了两个异常，虽然我也不知道以后会不会有用。\"\"\"\r\n",
    "class Error(Exception):\r\n",
    "    \"\"\"Cities and pathes matrix are not conpatible, or matrix are not square matrix.\"\"\"\r\n",
    "    def __init__(self, args: object) -> None:\r\n",
    "        self.args=args\r\n",
    "\r\n",
    "\r\n",
    "class MapError(Error):\r\n",
    "    def __init__(self, message:str) -> None:\r\n",
    "        self.message = message\r\n",
    "\r\n",
    "\r\n",
    "class Map:\r\n",
    "    \"\"\"Acturally, Map is a directed graph, which uses tuple as verteces, ndarray as edges.\"\"\"\r\n",
    "    \r\n",
    "    # cities是结点集合，pathes是邻接矩阵。\r\n",
    "    def __init__(self, cities:tuple, pathes:np.ndarray) -> None:\r\n",
    "\r\n",
    "        # 两个if都是为了判定结点集合和邻接矩阵是不是匹配的，以及这个矩阵能不能拿来作为邻接矩阵。\r\n",
    "        if pathes.shape[0] != pathes.shape[1]:\r\n",
    "            raise MapError(\"Pathes matrix is not a square matrix.\")\r\n",
    "        elif len(cities) != pathes.shape[0]:\r\n",
    "            raise MapError(\"Cities and Pathes are not compatible.\")\r\n",
    "\r\n",
    "        self.cities=cities\r\n",
    "        self.pathes=pathes\r\n",
    "\r\n",
    "    # 结点集合的接口\r\n",
    "    def vertex(self)->tuple:\r\n",
    "        return self.cities\r\n",
    "\r\n",
    "    # 邻接矩阵的接口\r\n",
    "    def edges(self)->np.ndarray:\r\n",
    "        return self.pathes\r\n",
    "\r\n",
    "    # 这是为了方便打印，虽然我也不知道做了可视化之后为什么还要打印。。。\r\n",
    "    def __str__(self) -> str:\r\n",
    "        return(\"Cities:\\n\"+str(self.cities)+\"\\nPathes:\\n\"+str(self.pathes))"
   ]
  },
  {
   "cell_type": "code",
   "execution_count": null,
   "metadata": {},
   "outputs": [],
   "source": [
    "'''可视化函数，会把脚本内容写在rsrc文件夹内的Map.dot里面，再使用Graphviz渲染出来就好了'''\r\n",
    "# 这两个字符串是dot语言里结点声明语句的模板\r\n",
    "vertex=\"\\t{name}[shape=circle, label={label}, size=0.1, fillcolor=black, style=filled, fontcolor=white]\\n\"\r\n",
    "arrow=\"\\t{v1}->{v2}[label=\\\"{w}\\\"]\\n\"\r\n",
    "\r\n",
    "# 可视化一个Map\r\n",
    "def visualize_Map(map:Map):\r\n",
    "    # Open script file\r\n",
    "    with open(\"./rsrc/Map.dot\",\"w\") as script:\r\n",
    "        script.write(\"digraph {\\n\")\r\n",
    "        script.write(\"\\tlabel=\\\"Map\\\"\\n\")\r\n",
    "\r\n",
    "        # Generate verteces\r\n",
    "        verteces=list()\r\n",
    "        for v in map.vertex():\r\n",
    "            verteces.append(str(v))\r\n",
    "            script.write(vertex.format(name=str(v), label=str(v)))\r\n",
    "\r\n",
    "        # Connect\r\n",
    "        for i in range(map.edges().shape[0]):\r\n",
    "            for j in range(map.edges().shape[1]):\r\n",
    "                weight = map.edges()[i,j]\r\n",
    "                if weight!=0:\r\n",
    "                    script.write(arrow.format(v1=verteces[i], v2=verteces[j], w=weight))\r\n",
    "\r\n",
    "        script.write(\"}\")\r\n",
    "\r\n",
    "    print(\"Visualized successfully.\")"
   ]
  },
  {
   "cell_type": "markdown",
   "metadata": {},
   "source": [
    "## 2、禁忌搜索（TS）\r\n",
    "### 2.1、概述\r\n",
    "禁忌搜索是由爬山算法改良来的，首先需要满足爬山法的需求：\r\n",
    "- 初始解；\r\n",
    "- 可以由一个解得到附近的其他解的函数；\r\n",
    "- 可以评价解的优劣的函数；\r\n",
    "\r\n",
    "但TS对这个方法做出了改进，我们从里面引入了：\r\n",
    "- 禁忌表（TabuList），把局部最优解记录进里面，之后有意识避开。\r\n",
    "- 禁忌长度，禁忌表的大小限制。\r\n",
    "- 停止规则，满足要求或者是超时了就应该停下来了。"
   ]
  },
  {
   "cell_type": "markdown",
   "metadata": {},
   "source": [
    "### 2.2、TS的实现\r\n",
    "建立了一个`class Tabu_Search`来打包概述内说的数据和方法。这个类的对象需要在构造的时候接收一个`Map`对象以及一个初始解，之后由一个迭代求解的函数来执行整个过程。\r\n",
    "\r\n",
    "#### 2.2.1、初始解\r\n",
    "由之前对于图的约定可知，此图是简单图，用结点来表示边就足够了。所以每一条可能的路都无非就是规定了先去哪个地方后去哪个地方，也就是说，这个问题的解可以表达为一个结点序列。因为我们之前都使用字母来命名这些城市，所以可以选择字符串来作为解的形式，诸如于`\"ABCD\"`，我们就用这个作为初始解。\r\n",
    "\r\n",
    "#### 2.2.2、迭代求解函数`Find_the_Way()`\r\n",
    "这个函数基本上没遵循啥命名规范，但鉴于这个类不会有太多函数，所以暂且就这样罢。。。\r\n",
    "这个函数会总理算法，体现禁忌搜索。其作用是在一系列条件下给出禁忌搜索能找到的最优解。要求把Map对象输入进去，就能得到禁忌搜索的解。之后完善算法之后可以考虑改良它。\r\n",
    "\r\n",
    "#### 2.2.3、附近解函数`neighbours()`\r\n",
    "因为附近的解不止一个，所以这个函数需要返回解的元组。\r\n",
    "此外，这个函数应当输出的时候会避开禁忌表内的元素以及已经判断过的解。\r\n",
    "\r\n",
    "#### 2.2.4、评价函数`Length()`\r\n",
    "输入一个解，对应给出一个评价，让我们可以比较解之间的优劣。我们在这里使用总路程作为评价标准，相应的这个函数也就输出路程。在更复杂的问题里面，我们会需要更复杂的评价方法，比如使用标准差、期望等等作为评价标准。\r\n",
    "\r\n",
    "#### 2.2.5、禁忌表\r\n",
    "很简单，一个解的列表，其被限制在**禁忌长度**的范围内。\r\n",
    "\r\n",
    "#### 2.2.6、停止规则\r\n",
    "停止规则准备是限制步数，这个步数会放的比较大，到时候会使用函数来观察优劣-步数之间的走势。如果步数增加的时候优劣变化已经不明显，我们就认为这个步数长度可以作为停止规则了。"
   ]
  }
 ],
 "metadata": {
  "interpreter": {
   "hash": "b28d030d82f7dd786d763e2dccbaf013213deda1c4403ca7e4dab6ad421c7e0c"
  },
  "kernelspec": {
   "display_name": "Python 3.8.10 64-bit ('Py38': conda)",
   "name": "python3"
  },
  "language_info": {
   "name": "python",
   "version": ""
  },
  "orig_nbformat": 4
 },
 "nbformat": 4,
 "nbformat_minor": 2
}